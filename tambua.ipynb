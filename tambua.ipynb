{
 "cells": [
  {
   "cell_type": "code",
   "execution_count": 31,
   "id": "af2db8e8",
   "metadata": {},
   "outputs": [],
   "source": [
    "import os\n",
    "import cv2\n",
    "import numpy as np\n",
    "from tqdm import tqdm\n",
    "from PIL import Image\n",
    "from facenet_pytorch import MTCNN, InceptionResnetV1\n"
   ]
  },
  {
   "cell_type": "code",
   "execution_count": 37,
   "id": "fdb6ca17",
   "metadata": {},
   "outputs": [],
   "source": [
    "def match_faces(target_image, gallery_folder, num_matches=5):\n",
    "    mtcnn = MTCNN(keep_all=True)\n",
    "    resnet = InceptionResnetV1(pretrained='vggface2').eval()\n",
    "\n",
    "    def get_embeddings(image):\n",
    "        img = Image.fromarray(cv2.cvtColor(image, cv2.COLOR_BGR2RGB))\n",
    "        face_tensors = mtcnn(img)\n",
    "        if face_tensors is None:\n",
    "            return None\n",
    "        embeddings = resnet(face_tensors)\n",
    "        return embeddings.detach().numpy()\n",
    "\n",
    "    # Load the target image and extract embeddings\n",
    "    target_embeddings = get_embeddings(target_image)\n",
    "\n",
    "    if target_embeddings is None:\n",
    "        print(\"No faces found in the target image.\")\n",
    "        return []\n",
    "\n",
    "    # Load the gallery images and extract embeddings\n",
    "    gallery_embeddings = []\n",
    "    gallery_images = []\n",
    "    for filename in tqdm(os.listdir(gallery_folder), desc='Processing gallery images'):\n",
    "        image = cv2.imread(os.path.join(gallery_folder, filename))\n",
    "        if image is not None:\n",
    "            gallery_images.append(image)\n",
    "            gallery_embeddings.append(get_embeddings(image))\n",
    "\n",
    "    if len(gallery_embeddings) == 0:\n",
    "        print(\"No faces found in the gallery images.\")\n",
    "        return []\n",
    "\n",
    "    # Compute the similarity between target and gallery embeddings\n",
    "    similarities = []\n",
    "    for i, gallery_embedding in enumerate(gallery_embeddings):\n",
    "        similarity = np.dot(target_embeddings, gallery_embedding.T)\n",
    "        similarities.append((i, similarity[0][0]))\n",
    "\n",
    "    # Sort the results by similarity\n",
    "    sorted_results = sorted(similarities, key=lambda x: x[1], reverse=True)\n",
    "    top_matches = sorted_results[:num_matches]\n",
    "\n",
    "    if len(top_matches) == 0:\n",
    "        print(\"No matches found.\")\n",
    "    else:\n",
    "        for i, (index, similarity) in enumerate(top_matches):\n",
    "            matched_image = gallery_images[index]\n",
    "            matched_filename = os.listdir(gallery_folder)[index]\n",
    "            print(f\"Match {i+1}: Filename {matched_filename}, Similarity {similarity}\")\n",
    "\n",
    "    return top_matches"
   ]
  },
  {
   "cell_type": "code",
   "execution_count": 41,
   "id": "67ff868c",
   "metadata": {},
   "outputs": [
    {
     "name": "stderr",
     "output_type": "stream",
     "text": [
      "Processing gallery images: 100%|█████████████████████████████████████████████████████████| 7/7 [00:02<00:00,  2.58it/s]"
     ]
    },
    {
     "name": "stdout",
     "output_type": "stream",
     "text": [
      "Match 1: Filename Boniface james.jpg, Similarity 0.5515308976173401\n",
      "Match 2: Filename Emmanuel Kirui.jpg, Similarity 0.5278165340423584\n",
      "Match 3: Filename John Kamau.jpg, Similarity 0.4929405450820923\n",
      "Match 4: Filename Sheryl Achieng.jpg, Similarity 0.4246913194656372\n",
      "Match 5: Filename Daniel james.jpg, Similarity 0.42221271991729736\n"
     ]
    },
    {
     "name": "stderr",
     "output_type": "stream",
     "text": [
      "\n"
     ]
    }
   ],
   "source": [
    "target_image = cv2.imread('C:\\\\Users\\\\Stephen Otieno\\\\Downloads\\\\Owako PHOTO.jpg')\n",
    "gallery_folder = 'images'\n",
    "results = match_faces(target_image, gallery_folder)"
   ]
  },
  {
   "cell_type": "code",
   "execution_count": null,
   "id": "a9cf0d81",
   "metadata": {},
   "outputs": [],
   "source": []
  }
 ],
 "metadata": {
  "kernelspec": {
   "display_name": "Python 3 (ipykernel)",
   "language": "python",
   "name": "python3"
  },
  "language_info": {
   "codemirror_mode": {
    "name": "ipython",
    "version": 3
   },
   "file_extension": ".py",
   "mimetype": "text/x-python",
   "name": "python",
   "nbconvert_exporter": "python",
   "pygments_lexer": "ipython3",
   "version": "3.11.0"
  }
 },
 "nbformat": 4,
 "nbformat_minor": 5
}
